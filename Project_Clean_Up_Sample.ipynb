{
  "nbformat": 4,
  "nbformat_minor": 0,
  "metadata": {
    "colab": {
      "name": "Project Clean Up Sample",
      "provenance": [],
      "collapsed_sections": [],
      "mount_file_id": "1qX3aALsMFjR6OOjkqXisD9qOUT-_6Xqo",
      "authorship_tag": "ABX9TyOy3zCFMnesPwohAe63N6PJ",
      "include_colab_link": true
    },
    "kernelspec": {
      "name": "python3",
      "display_name": "Python 3"
    }
  },
  "cells": [
    {
      "cell_type": "markdown",
      "metadata": {
        "id": "view-in-github",
        "colab_type": "text"
      },
      "source": [
        "<a href=\"https://colab.research.google.com/github/pedrocruzio/ProjectCleanUp/blob/master/Project_Clean_Up_Sample.ipynb\" target=\"_parent\"><img src=\"https://colab.research.google.com/assets/colab-badge.svg\" alt=\"Open In Colab\"/></a>"
      ]
    },
    {
      "cell_type": "code",
      "metadata": {
        "id": "6RBwHBVqfD1f",
        "colab_type": "code",
        "colab": {}
      },
      "source": [
        "!pip install --upgrade \"ibm-watson>=4.5.0\"\n",
        "!pip install --upgrade \"watson-developer-cloud>=2.4.1\""
      ],
      "execution_count": null,
      "outputs": []
    },
    {
      "cell_type": "code",
      "metadata": {
        "id": "2DkyoC1UhcFH",
        "colab_type": "code",
        "colab": {}
      },
      "source": [
        "import json\n",
        "from ibm_watson import VisualRecognitionV3\n",
        "from ibm_cloud_sdk_core.authenticators import IAMAuthenticator\n",
        "from IPython.display import Image\n",
        "\n",
        "# Replace API Key\n",
        "authenticator = IAMAuthenticator('INSERT_API_KEY')\n",
        "visual_recognition = VisualRecognitionV3(\n",
        "    version='2018-03-19',\n",
        "    authenticator=authenticator\n",
        ")\n",
        "\n",
        "# Replace URL\n",
        "visual_recognition.set_service_url('INSERT_URL')"
      ],
      "execution_count": null,
      "outputs": []
    },
    {
      "cell_type": "code",
      "metadata": {
        "id": "ECwVGa-qldM6",
        "colab_type": "code",
        "colab": {}
      },
      "source": [
        "# Select Test Image\n",
        "test_img_file = 'INSERT_IMAGE_PATH'\n",
        "Image(test_img_file)"
      ],
      "execution_count": null,
      "outputs": []
    },
    {
      "cell_type": "code",
      "metadata": {
        "id": "JE5nvO34j-Oq",
        "colab_type": "code",
        "colab": {}
      },
      "source": [
        "# Open a the test image and classify with Watson Visual Recognition\n",
        "with open(test_img_file, 'rb') as images_file:\n",
        "    classes = visual_recognition.classify(\n",
        "        images_file=images_file,\n",
        "        threshold='0',\n",
        "        classifier_ids='INSERT_CLASSIFIER_ID').get_result()\n",
        "\n",
        "# Get Results\n",
        "result = json.dumps(classes, indent=2)\n",
        "resultInJson = json.loads(result)\n",
        "# print(result) -> view full response\n",
        "\n",
        "#Extract Score\n",
        "score = resultInJson['images'][0]['classifiers'][0]['classes'][0]['score']\n",
        "\n",
        "# Display Results\n",
        "print('There is a ' + str(score*100)+'% ' + 'chance there is trash in this photo')"
      ],
      "execution_count": null,
      "outputs": []
    }
  ]
}